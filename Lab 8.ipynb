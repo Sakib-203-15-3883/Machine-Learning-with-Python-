{
 "cells": [
  {
   "cell_type": "code",
   "execution_count": 1,
   "id": "e3bf15f9",
   "metadata": {},
   "outputs": [
    {
     "name": "stderr",
     "output_type": "stream",
     "text": [
      "Matplotlib is building the font cache; this may take a moment.\n"
     ]
    }
   ],
   "source": [
    "import pandas as pd\n",
    "import numpy as np\n",
    "import matplotlib.pyplot as plt\n",
    "import seaborn as sns"
   ]
  },
  {
   "cell_type": "code",
   "execution_count": 3,
   "id": "60eda51d",
   "metadata": {},
   "outputs": [],
   "source": [
    "dataset = pd.read_csv(\"Mining_dataset.csv\")"
   ]
  },
  {
   "cell_type": "code",
   "execution_count": 4,
   "id": "83983c85",
   "metadata": {},
   "outputs": [
    {
     "data": {
      "text/html": [
       "<div>\n",
       "<style scoped>\n",
       "    .dataframe tbody tr th:only-of-type {\n",
       "        vertical-align: middle;\n",
       "    }\n",
       "\n",
       "    .dataframe tbody tr th {\n",
       "        vertical-align: top;\n",
       "    }\n",
       "\n",
       "    .dataframe thead th {\n",
       "        text-align: right;\n",
       "    }\n",
       "</style>\n",
       "<table border=\"1\" class=\"dataframe\">\n",
       "  <thead>\n",
       "    <tr style=\"text-align: right;\">\n",
       "      <th></th>\n",
       "      <th>Timestamp</th>\n",
       "      <th>Your known Drug Addicted area name</th>\n",
       "      <th>Drug Addicted ( Age between )( 10-20 years )    = 1( 21-30 years )    = 2( 31-40 years )    = 3( 41-50 years )    = 4( 51-100 years )  = 5</th>\n",
       "      <th>Which of them is more addicted</th>\n",
       "      <th>Drug Used (Type)</th>\n",
       "      <th>Frequency of Use Daily =1 Weakly =7 Monthly =30 Occasionally = 0</th>\n",
       "      <th>Avg Drug Addicted (%) in Your Area example : 20 %</th>\n",
       "    </tr>\n",
       "  </thead>\n",
       "  <tbody>\n",
       "    <tr>\n",
       "      <th>0</th>\n",
       "      <td>8/11/2023 21:18:26</td>\n",
       "      <td>Dhaka</td>\n",
       "      <td>2</td>\n",
       "      <td>Male</td>\n",
       "      <td>Others</td>\n",
       "      <td>7</td>\n",
       "      <td>20</td>\n",
       "    </tr>\n",
       "    <tr>\n",
       "      <th>1</th>\n",
       "      <td>8/11/2023 21:21:25</td>\n",
       "      <td>No idea</td>\n",
       "      <td>2</td>\n",
       "      <td>Male</td>\n",
       "      <td>Marijuana</td>\n",
       "      <td>0</td>\n",
       "      <td>10%</td>\n",
       "    </tr>\n",
       "    <tr>\n",
       "      <th>2</th>\n",
       "      <td>8/11/2023 21:22:19</td>\n",
       "      <td>Mirpur</td>\n",
       "      <td>2</td>\n",
       "      <td>Male</td>\n",
       "      <td>Heroin</td>\n",
       "      <td>1</td>\n",
       "      <td>40%</td>\n",
       "    </tr>\n",
       "    <tr>\n",
       "      <th>3</th>\n",
       "      <td>8/11/2023 21:29:16</td>\n",
       "      <td>kustia</td>\n",
       "      <td>2</td>\n",
       "      <td>Male</td>\n",
       "      <td>Heroin</td>\n",
       "      <td>1</td>\n",
       "      <td>10%</td>\n",
       "    </tr>\n",
       "    <tr>\n",
       "      <th>4</th>\n",
       "      <td>8/11/2023 21:31:27</td>\n",
       "      <td>I don't know any specific area to be known for...</td>\n",
       "      <td>4</td>\n",
       "      <td>Male</td>\n",
       "      <td>Others</td>\n",
       "      <td>1</td>\n",
       "      <td>Don't know</td>\n",
       "    </tr>\n",
       "    <tr>\n",
       "      <th>5</th>\n",
       "      <td>8/11/2023 21:32:45</td>\n",
       "      <td>Dhaka</td>\n",
       "      <td>2</td>\n",
       "      <td>Male</td>\n",
       "      <td>Marijuana</td>\n",
       "      <td>1</td>\n",
       "      <td>18%</td>\n",
       "    </tr>\n",
       "    <tr>\n",
       "      <th>6</th>\n",
       "      <td>8/11/2023 21:34:13</td>\n",
       "      <td>No</td>\n",
       "      <td>1</td>\n",
       "      <td>Male</td>\n",
       "      <td>Marijuana</td>\n",
       "      <td>30</td>\n",
       "      <td>50%</td>\n",
       "    </tr>\n",
       "    <tr>\n",
       "      <th>7</th>\n",
       "      <td>8/11/2023 21:37:14</td>\n",
       "      <td>Daffodil Smart City(Dealer: Barko,Rajia,Dadu,M...</td>\n",
       "      <td>2</td>\n",
       "      <td>Male</td>\n",
       "      <td>Marijuana</td>\n",
       "      <td>1</td>\n",
       "      <td>100%</td>\n",
       "    </tr>\n",
       "    <tr>\n",
       "      <th>8</th>\n",
       "      <td>8/11/2023 21:51:53</td>\n",
       "      <td>Ashulia</td>\n",
       "      <td>2</td>\n",
       "      <td>Male</td>\n",
       "      <td>Others</td>\n",
       "      <td>1</td>\n",
       "      <td>30%</td>\n",
       "    </tr>\n",
       "    <tr>\n",
       "      <th>9</th>\n",
       "      <td>8/11/2023 22:07:20</td>\n",
       "      <td>Ashulia</td>\n",
       "      <td>2</td>\n",
       "      <td>Male</td>\n",
       "      <td>Others</td>\n",
       "      <td>30</td>\n",
       "      <td>80%</td>\n",
       "    </tr>\n",
       "    <tr>\n",
       "      <th>10</th>\n",
       "      <td>8/11/2023 23:18:59</td>\n",
       "      <td>National university area</td>\n",
       "      <td>2</td>\n",
       "      <td>Male</td>\n",
       "      <td>Others</td>\n",
       "      <td>30</td>\n",
       "      <td>19%</td>\n",
       "    </tr>\n",
       "    <tr>\n",
       "      <th>11</th>\n",
       "      <td>8/12/2023 21:19:27</td>\n",
       "      <td>Asulia</td>\n",
       "      <td>2</td>\n",
       "      <td>Male</td>\n",
       "      <td>Others</td>\n",
       "      <td>1</td>\n",
       "      <td>20%</td>\n",
       "    </tr>\n",
       "    <tr>\n",
       "      <th>12</th>\n",
       "      <td>8/13/2023 0:13:14</td>\n",
       "      <td>Savar</td>\n",
       "      <td>2</td>\n",
       "      <td>Male</td>\n",
       "      <td>Heroin</td>\n",
       "      <td>1</td>\n",
       "      <td>20%</td>\n",
       "    </tr>\n",
       "    <tr>\n",
       "      <th>13</th>\n",
       "      <td>8/15/2023 15:44:46</td>\n",
       "      <td>Ashulia</td>\n",
       "      <td>2</td>\n",
       "      <td>Male</td>\n",
       "      <td>Others</td>\n",
       "      <td>1</td>\n",
       "      <td>40%</td>\n",
       "    </tr>\n",
       "  </tbody>\n",
       "</table>\n",
       "</div>"
      ],
      "text/plain": [
       "             Timestamp                 Your known Drug Addicted area name  \\\n",
       "0   8/11/2023 21:18:26                                              Dhaka   \n",
       "1   8/11/2023 21:21:25                                            No idea   \n",
       "2   8/11/2023 21:22:19                                             Mirpur   \n",
       "3   8/11/2023 21:29:16                                             kustia   \n",
       "4   8/11/2023 21:31:27  I don't know any specific area to be known for...   \n",
       "5   8/11/2023 21:32:45                                             Dhaka    \n",
       "6   8/11/2023 21:34:13                                                 No   \n",
       "7   8/11/2023 21:37:14  Daffodil Smart City(Dealer: Barko,Rajia,Dadu,M...   \n",
       "8   8/11/2023 21:51:53                                            Ashulia   \n",
       "9   8/11/2023 22:07:20                                           Ashulia    \n",
       "10  8/11/2023 23:18:59                           National university area   \n",
       "11  8/12/2023 21:19:27                                             Asulia   \n",
       "12   8/13/2023 0:13:14                                              Savar   \n",
       "13  8/15/2023 15:44:46                                            Ashulia   \n",
       "\n",
       "    Drug Addicted ( Age between )( 10-20 years )    = 1( 21-30 years )    = 2( 31-40 years )    = 3( 41-50 years )    = 4( 51-100 years )  = 5  \\\n",
       "0                                                   2                                                                                            \n",
       "1                                                   2                                                                                            \n",
       "2                                                   2                                                                                            \n",
       "3                                                   2                                                                                            \n",
       "4                                                   4                                                                                            \n",
       "5                                                   2                                                                                            \n",
       "6                                                   1                                                                                            \n",
       "7                                                   2                                                                                            \n",
       "8                                                   2                                                                                            \n",
       "9                                                   2                                                                                            \n",
       "10                                                  2                                                                                            \n",
       "11                                                  2                                                                                            \n",
       "12                                                  2                                                                                            \n",
       "13                                                  2                                                                                            \n",
       "\n",
       "   Which of them is more addicted Drug Used (Type)  \\\n",
       "0                            Male           Others   \n",
       "1                            Male        Marijuana   \n",
       "2                            Male           Heroin   \n",
       "3                            Male           Heroin   \n",
       "4                            Male           Others   \n",
       "5                            Male        Marijuana   \n",
       "6                            Male        Marijuana   \n",
       "7                            Male        Marijuana   \n",
       "8                            Male           Others   \n",
       "9                            Male           Others   \n",
       "10                           Male           Others   \n",
       "11                           Male           Others   \n",
       "12                           Male           Heroin   \n",
       "13                           Male           Others   \n",
       "\n",
       "    Frequency of Use Daily =1 Weakly =7 Monthly =30 Occasionally = 0  \\\n",
       "0                                                   7                  \n",
       "1                                                   0                  \n",
       "2                                                   1                  \n",
       "3                                                   1                  \n",
       "4                                                   1                  \n",
       "5                                                   1                  \n",
       "6                                                  30                  \n",
       "7                                                   1                  \n",
       "8                                                   1                  \n",
       "9                                                  30                  \n",
       "10                                                 30                  \n",
       "11                                                  1                  \n",
       "12                                                  1                  \n",
       "13                                                  1                  \n",
       "\n",
       "   Avg Drug Addicted (%) in Your Area example : 20 %  \n",
       "0                                                 20  \n",
       "1                                                10%  \n",
       "2                                                40%  \n",
       "3                                                10%  \n",
       "4                                         Don't know  \n",
       "5                                                18%  \n",
       "6                                                50%  \n",
       "7                                               100%  \n",
       "8                                                30%  \n",
       "9                                                80%  \n",
       "10                                               19%  \n",
       "11                                               20%  \n",
       "12                                               20%  \n",
       "13                                               40%  "
      ]
     },
     "execution_count": 4,
     "metadata": {},
     "output_type": "execute_result"
    }
   ],
   "source": [
    "dataset"
   ]
  },
  {
   "cell_type": "code",
   "execution_count": 5,
   "id": "f297d821",
   "metadata": {},
   "outputs": [
    {
     "data": {
      "text/plain": [
       "Timestamp                                                                                                                                     0\n",
       "Your known Drug Addicted area name                                                                                                            0\n",
       "Drug Addicted ( Age between )( 10-20 years )    = 1( 21-30 years )    = 2( 31-40 years )    = 3( 41-50 years )    = 4( 51-100 years )  = 5    0\n",
       "Which of them is more addicted                                                                                                                0\n",
       "Drug Used (Type)                                                                                                                              0\n",
       "Frequency of Use Daily =1 Weakly =7 Monthly =30 Occasionally = 0                                                                              0\n",
       "Avg Drug Addicted (%) in Your Area example : 20 %                                                                                             0\n",
       "dtype: int64"
      ]
     },
     "execution_count": 5,
     "metadata": {},
     "output_type": "execute_result"
    }
   ],
   "source": [
    "dataset.isnull().sum()"
   ]
  },
  {
   "cell_type": "code",
   "execution_count": 6,
   "id": "a593cb7a",
   "metadata": {},
   "outputs": [
    {
     "data": {
      "text/plain": [
       "<AxesSubplot:>"
      ]
     },
     "execution_count": 6,
     "metadata": {},
     "output_type": "execute_result"
    },
    {
     "data": {
      "image/png": "[encoded data removed]",
      "text/plain": [
       "<Figure size 432x288 with 1 Axes>"
      ]
     },
     "metadata": {
      "needs_background": "light"
     },
     "output_type": "display_data"
    }
   ],
   "source": [
    "dataset[\"Your known Drug Addicted area name\"].value_counts().plot(kind=\"barh\")"
   ]
  },
  {
   "cell_type": "code",
   "execution_count": 7,
   "id": "37dcd65c",
   "metadata": {},
   "outputs": [
    {
     "data": {
      "text/plain": [
       "<AxesSubplot:>"
      ]
     },
     "execution_count": 7,
     "metadata": {},
     "output_type": "execute_result"
    },
    {
     "data": {
      "image/png": "[encoded data removed]",
      "text/plain": [
       "<Figure size 432x288 with 1 Axes>"
      ]
     },
     "metadata": {
      "needs_background": "light"
     },
     "output_type": "display_data"
    }
   ],
   "source": [
    "dataset[\"Which of them is more addicted\"].value_counts().plot(kind=\"barh\")"
   ]
  },
  {
   "cell_type": "code",
   "execution_count": 8,
   "id": "e070d4bb",
   "metadata": {},
   "outputs": [
    {
     "data": {
      "text/plain": [
       "<AxesSubplot:>"
      ]
     },
     "execution_count": 8,
     "metadata": {},
     "output_type": "execute_result"
    },
    {
     "data": {
      "image/png": "[encoded data removed]",
      "text/plain": [
       "<Figure size 432x288 with 1 Axes>"
      ]
     },
     "metadata": {
      "needs_background": "light"
     },
     "output_type": "display_data"
    }
   ],
   "source": [
    "dataset[\"Drug Used (Type)\"].value_counts().plot(kind=\"barh\")"
   ]
  },
  {
   "cell_type": "code",
   "execution_count": 9,
   "id": "5491e8ba",
   "metadata": {},
   "outputs": [
    {
     "data": {
      "text/plain": [
       "<AxesSubplot:>"
      ]
     },
     "execution_count": 9,
     "metadata": {},
     "output_type": "execute_result"
    },
    {
     "data": {
      "image/png": "[encoded data removed]",
      "text/plain": [
       "<Figure size 432x288 with 1 Axes>"
      ]
     },
     "metadata": {
      "needs_background": "light"
     },
     "output_type": "display_data"
    }
   ],
   "source": [
    "dataset[\"Avg Drug Addicted (%) in Your Area example : 20 %\"].value_counts().plot(kind=\"barh\")"
   ]
  },
  {
   "cell_type": "code",
   "execution_count": 10,
   "id": "16e73e5d",
   "metadata": {},
   "outputs": [],
   "source": [
    "from sklearn.preprocessing import LabelEncoder"
   ]
  },
  {
   "cell_type": "code",
   "execution_count": 12,
   "id": "6bcb2dbb",
   "metadata": {},
   "outputs": [],
   "source": [
    "le = LabelEncoder()"
   ]
  },
  {
   "cell_type": "code",
   "execution_count": 15,
   "id": "1ee4f83c",
   "metadata": {},
   "outputs": [],
   "source": [
    "one = le.fit_transform(dataset[\"Your known Drug Addicted area name\"])\n",
    "dataset[\"Your known Drug Addicted area name\"] = one\n",
    "two = le.fit_transform(dataset[\"Which of them is more addicted\"])\n",
    "dataset[\"Which of them is more addicted\"] = two\n",
    "three = le.fit_transform(dataset[\"Drug Used (Type)\"])\n",
    "dataset[\"Drug Used (Type)\"] = three\n",
    "four = le.fit_transform(dataset[\"Avg Drug Addicted (%) in Your Area example : 20 %\"])\n",
    "dataset[\"Avg Drug Addicted (%) in Your Area example : 20 %\"] = four"
   ]
  },
  {
   "cell_type": "code",
   "execution_count": 16,
   "id": "a7614691",
   "metadata": {},
   "outputs": [
    {
     "data": {
      "text/plain": [
       "0      4\n",
       "1     10\n",
       "2      7\n",
       "3     12\n",
       "4      6\n",
       "5      5\n",
       "6      9\n",
       "7      3\n",
       "8      0\n",
       "9      1\n",
       "10     8\n",
       "11     2\n",
       "12    11\n",
       "13     0\n",
       "Name: Your known Drug Addicted area name, dtype: int32"
      ]
     },
     "execution_count": 16,
     "metadata": {},
     "output_type": "execute_result"
    }
   ],
   "source": [
    "dataset[\"Your known Drug Addicted area name\"]"
   ]
  },
  {
   "cell_type": "code",
   "execution_count": 21,
   "id": "3718a0dc",
   "metadata": {},
   "outputs": [
    {
     "data": {
      "text/plain": [
       "0     0\n",
       "1     0\n",
       "2     0\n",
       "3     0\n",
       "4     0\n",
       "5     0\n",
       "6     0\n",
       "7     0\n",
       "8     0\n",
       "9     0\n",
       "10    0\n",
       "11    0\n",
       "12    0\n",
       "13    0\n",
       "Name: Which of them is more addicted, dtype: int32"
      ]
     },
     "execution_count": 21,
     "metadata": {},
     "output_type": "execute_result"
    }
   ],
   "source": [
    "dataset[\"Which of them is more addicted\"]"
   ]
  },
  {
   "cell_type": "code",
   "execution_count": 22,
   "id": "0449855d",
   "metadata": {},
   "outputs": [
    {
     "data": {
      "text/plain": [
       "0     2\n",
       "1     1\n",
       "2     0\n",
       "3     0\n",
       "4     2\n",
       "5     1\n",
       "6     1\n",
       "7     1\n",
       "8     2\n",
       "9     2\n",
       "10    2\n",
       "11    2\n",
       "12    0\n",
       "13    2\n",
       "Name: Drug Used (Type), dtype: int32"
      ]
     },
     "execution_count": 22,
     "metadata": {},
     "output_type": "execute_result"
    }
   ],
   "source": [
    "dataset[\"Drug Used (Type)\"]"
   ]
  },
  {
   "cell_type": "code",
   "execution_count": 23,
   "id": "94746633",
   "metadata": {},
   "outputs": [
    {
     "data": {
      "text/plain": [
       "0      4\n",
       "1      0\n",
       "2      7\n",
       "3      0\n",
       "4     10\n",
       "5      2\n",
       "6      8\n",
       "7      1\n",
       "8      6\n",
       "9      9\n",
       "10     3\n",
       "11     5\n",
       "12     5\n",
       "13     7\n",
       "Name: Avg Drug Addicted (%) in Your Area example : 20 %, dtype: int32"
      ]
     },
     "execution_count": 23,
     "metadata": {},
     "output_type": "execute_result"
    }
   ],
   "source": [
    "dataset[\"Avg Drug Addicted (%) in Your Area example : 20 %\"]"
   ]
  },
  {
   "cell_type": "code",
   "execution_count": 24,
   "id": "b47c6c69",
   "metadata": {},
   "outputs": [
    {
     "data": {
      "text/html": [
       "<div>\n",
       "<style scoped>\n",
       "    .dataframe tbody tr th:only-of-type {\n",
       "        vertical-align: middle;\n",
       "    }\n",
       "\n",
       "    .dataframe tbody tr th {\n",
       "        vertical-align: top;\n",
       "    }\n",
       "\n",
       "    .dataframe thead th {\n",
       "        text-align: right;\n",
       "    }\n",
       "</style>\n",
       "<table border=\"1\" class=\"dataframe\">\n",
       "  <thead>\n",
       "    <tr style=\"text-align: right;\">\n",
       "      <th></th>\n",
       "      <th>Your known Drug Addicted area name</th>\n",
       "      <th>Drug Addicted ( Age between )( 10-20 years )    = 1( 21-30 years )    = 2( 31-40 years )    = 3( 41-50 years )    = 4( 51-100 years )  = 5</th>\n",
       "      <th>Which of them is more addicted</th>\n",
       "      <th>Drug Used (Type)</th>\n",
       "      <th>Frequency of Use Daily =1 Weakly =7 Monthly =30 Occasionally = 0</th>\n",
       "      <th>Avg Drug Addicted (%) in Your Area example : 20 %</th>\n",
       "    </tr>\n",
       "  </thead>\n",
       "  <tbody>\n",
       "    <tr>\n",
       "      <th>Your known Drug Addicted area name</th>\n",
       "      <td>1.000000</td>\n",
       "      <td>-0.078915</td>\n",
       "      <td>NaN</td>\n",
       "      <td>-0.716222</td>\n",
       "      <td>0.036097</td>\n",
       "      <td>-0.378151</td>\n",
       "    </tr>\n",
       "    <tr>\n",
       "      <th>Drug Addicted ( Age between )( 10-20 years )    = 1( 21-30 years )    = 2( 31-40 years )    = 3( 41-50 years )    = 4( 51-100 years )  = 5</th>\n",
       "      <td>-0.078915</td>\n",
       "      <td>1.000000</td>\n",
       "      <td>NaN</td>\n",
       "      <td>0.259463</td>\n",
       "      <td>-0.362343</td>\n",
       "      <td>0.276269</td>\n",
       "    </tr>\n",
       "    <tr>\n",
       "      <th>Which of them is more addicted</th>\n",
       "      <td>NaN</td>\n",
       "      <td>NaN</td>\n",
       "      <td>NaN</td>\n",
       "      <td>NaN</td>\n",
       "      <td>NaN</td>\n",
       "      <td>NaN</td>\n",
       "    </tr>\n",
       "    <tr>\n",
       "      <th>Drug Used (Type)</th>\n",
       "      <td>-0.716222</td>\n",
       "      <td>0.259463</td>\n",
       "      <td>NaN</td>\n",
       "      <td>1.000000</td>\n",
       "      <td>0.286575</td>\n",
       "      <td>0.367280</td>\n",
       "    </tr>\n",
       "    <tr>\n",
       "      <th>Frequency of Use Daily =1 Weakly =7 Monthly =30 Occasionally = 0</th>\n",
       "      <td>0.036097</td>\n",
       "      <td>-0.362343</td>\n",
       "      <td>NaN</td>\n",
       "      <td>0.286575</td>\n",
       "      <td>1.000000</td>\n",
       "      <td>0.314749</td>\n",
       "    </tr>\n",
       "    <tr>\n",
       "      <th>Avg Drug Addicted (%) in Your Area example : 20 %</th>\n",
       "      <td>-0.378151</td>\n",
       "      <td>0.276269</td>\n",
       "      <td>NaN</td>\n",
       "      <td>0.367280</td>\n",
       "      <td>0.314749</td>\n",
       "      <td>1.000000</td>\n",
       "    </tr>\n",
       "  </tbody>\n",
       "</table>\n",
       "</div>"
      ],
      "text/plain": [
       "                                                    Your known Drug Addicted area name  \\\n",
       "Your known Drug Addicted area name                                            1.000000   \n",
       "Drug Addicted ( Age between )( 10-20 years )   ...                           -0.078915   \n",
       "Which of them is more addicted                                                     NaN   \n",
       "Drug Used (Type)                                                             -0.716222   \n",
       "Frequency of Use Daily =1 Weakly =7 Monthly =30...                            0.036097   \n",
       "Avg Drug Addicted (%) in Your Area example : 20 %                            -0.378151   \n",
       "\n",
       "                                                    Drug Addicted ( Age between )( 10-20 years )    = 1( 21-30 years )    = 2( 31-40 years )    = 3( 41-50 years )    = 4( 51-100 years )  = 5  \\\n",
       "Your known Drug Addicted area name                                                          -0.078915                                                                                            \n",
       "Drug Addicted ( Age between )( 10-20 years )   ...                                           1.000000                                                                                            \n",
       "Which of them is more addicted                                                                    NaN                                                                                            \n",
       "Drug Used (Type)                                                                             0.259463                                                                                            \n",
       "Frequency of Use Daily =1 Weakly =7 Monthly =30...                                          -0.362343                                                                                            \n",
       "Avg Drug Addicted (%) in Your Area example : 20 %                                            0.276269                                                                                            \n",
       "\n",
       "                                                    Which of them is more addicted  \\\n",
       "Your known Drug Addicted area name                                             NaN   \n",
       "Drug Addicted ( Age between )( 10-20 years )   ...                             NaN   \n",
       "Which of them is more addicted                                                 NaN   \n",
       "Drug Used (Type)                                                               NaN   \n",
       "Frequency of Use Daily =1 Weakly =7 Monthly =30...                             NaN   \n",
       "Avg Drug Addicted (%) in Your Area example : 20 %                              NaN   \n",
       "\n",
       "                                                    Drug Used (Type)  \\\n",
       "Your known Drug Addicted area name                         -0.716222   \n",
       "Drug Addicted ( Age between )( 10-20 years )   ...          0.259463   \n",
       "Which of them is more addicted                                   NaN   \n",
       "Drug Used (Type)                                            1.000000   \n",
       "Frequency of Use Daily =1 Weakly =7 Monthly =30...          0.286575   \n",
       "Avg Drug Addicted (%) in Your Area example : 20 %           0.367280   \n",
       "\n",
       "                                                    Frequency of Use Daily =1 Weakly =7 Monthly =30 Occasionally = 0  \\\n",
       "Your known Drug Addicted area name                                                           0.036097                  \n",
       "Drug Addicted ( Age between )( 10-20 years )   ...                                          -0.362343                  \n",
       "Which of them is more addicted                                                                    NaN                  \n",
       "Drug Used (Type)                                                                             0.286575                  \n",
       "Frequency of Use Daily =1 Weakly =7 Monthly =30...                                           1.000000                  \n",
       "Avg Drug Addicted (%) in Your Area example : 20 %                                            0.314749                  \n",
       "\n",
       "                                                    Avg Drug Addicted (%) in Your Area example : 20 %  \n",
       "Your known Drug Addicted area name                                                          -0.378151  \n",
       "Drug Addicted ( Age between )( 10-20 years )   ...                                           0.276269  \n",
       "Which of them is more addicted                                                                    NaN  \n",
       "Drug Used (Type)                                                                             0.367280  \n",
       "Frequency of Use Daily =1 Weakly =7 Monthly =30...                                           0.314749  \n",
       "Avg Drug Addicted (%) in Your Area example : 20 %                                            1.000000  "
      ]
     },
     "execution_count": 24,
     "metadata": {},
     "output_type": "execute_result"
    }
   ],
   "source": [
    "dataset.corr()"
   ]
  },
  {
   "cell_type": "code",
   "execution_count": 27,
   "id": "a3ea47ab",
   "metadata": {},
   "outputs": [
    {
     "data": {
      "text/plain": [
       "<AxesSubplot:>"
      ]
     },
     "execution_count": 27,
     "metadata": {},
     "output_type": "execute_result"
    },
    {
     "data": {
      "image/png": "[encoded data removed]",
      "text/plain": [
       "<Figure size 1440x1440 with 2 Axes>"
      ]
     },
     "metadata": {
      "needs_background": "light"
     },
     "output_type": "display_data"
    }
   ],
   "source": [
    "plt.figure(figsize=(20,20))\n",
    "sns.heatmap(dataset.corr(),fmt='.4f',annot=True)"
   ]
  },
  {
   "cell_type": "code",
   "execution_count": 37,
   "id": "461880fc",
   "metadata": {},
   "outputs": [],
   "source": [
    "features = [\n",
    "    \"Your known Drug Addicted area name\",\n",
    "    \"Which of them is more addicted\",\n",
    "    \"Drug Used (Type)\",\n",
    "    \"Frequency of Use Daily =1 Weakly =7 Monthly =30 Occasionally = 0\",\n",
    "    \"Avg Drug Addicted (%) in Your Area example : 20 %\"\n",
    "]"
   ]
  },
  {
   "cell_type": "code",
   "execution_count": 38,
   "id": "2b61bcda",
   "metadata": {},
   "outputs": [],
   "source": [
    "y = dataset[\"Drug Addicted ( Age between )( 10-20 years )    = 1( 21-30 years )    = 2( 31-40 years )    = 3( 41-50 years )    = 4( 51-100 years )  = 5\"]"
   ]
  },
  {
   "cell_type": "code",
   "execution_count": 39,
   "id": "e0515f97",
   "metadata": {},
   "outputs": [],
   "source": [
    "x = dataset[features]"
   ]
  },
  {
   "cell_type": "code",
   "execution_count": 40,
   "id": "80ee1064",
   "metadata": {},
   "outputs": [],
   "source": [
    "from sklearn.feature_selection import SelectKBest\n",
    "from sklearn.feature_selection import chi2"
   ]
  },
  {
   "cell_type": "code",
   "execution_count": 46,
   "id": "7ee3cd76",
   "metadata": {},
   "outputs": [],
   "source": [
    "sk = SelectKBest(score_func=chi2,k=5)"
   ]
  },
  {
   "cell_type": "code",
   "execution_count": 47,
   "id": "72770a19",
   "metadata": {},
   "outputs": [
    {
     "data": {
      "text/plain": [
       "SelectKBest(k=5, score_func=<function chi2 at 0x0000019E1090CAF0>)"
      ]
     },
     "execution_count": 47,
     "metadata": {},
     "output_type": "execute_result"
    }
   ],
   "source": [
    "sk"
   ]
  },
  {
   "cell_type": "code",
   "execution_count": 48,
   "id": "3fe16d97",
   "metadata": {},
   "outputs": [],
   "source": [
    "abc = sk.fit(x,y)"
   ]
  },
  {
   "cell_type": "code",
   "execution_count": 49,
   "id": "4e3a1e2b",
   "metadata": {},
   "outputs": [
    {
     "data": {
      "text/plain": [
       "SelectKBest(k=5, score_func=<function chi2 at 0x0000019E1090CAF0>)"
      ]
     },
     "execution_count": 49,
     "metadata": {},
     "output_type": "execute_result"
    }
   ],
   "source": [
    "abc"
   ]
  },
  {
   "cell_type": "code",
   "execution_count": 50,
   "id": "26887932",
   "metadata": {},
   "outputs": [],
   "source": [
    "dgh = pd.DataFrame(abc.scores_,columns=[\"score\"])"
   ]
  },
  {
   "cell_type": "code",
   "execution_count": 51,
   "id": "01298f22",
   "metadata": {},
   "outputs": [
    {
     "data": {
      "text/html": [
       "<div>\n",
       "<style scoped>\n",
       "    .dataframe tbody tr th:only-of-type {\n",
       "        vertical-align: middle;\n",
       "    }\n",
       "\n",
       "    .dataframe tbody tr th {\n",
       "        vertical-align: top;\n",
       "    }\n",
       "\n",
       "    .dataframe thead th {\n",
       "        text-align: right;\n",
       "    }\n",
       "</style>\n",
       "<table border=\"1\" class=\"dataframe\">\n",
       "  <thead>\n",
       "    <tr style=\"text-align: right;\">\n",
       "      <th></th>\n",
       "      <th>score</th>\n",
       "    </tr>\n",
       "  </thead>\n",
       "  <tbody>\n",
       "    <tr>\n",
       "      <th>3</th>\n",
       "      <td>74.910377</td>\n",
       "    </tr>\n",
       "    <tr>\n",
       "      <th>4</th>\n",
       "      <td>9.077114</td>\n",
       "    </tr>\n",
       "    <tr>\n",
       "      <th>0</th>\n",
       "      <td>2.365385</td>\n",
       "    </tr>\n",
       "    <tr>\n",
       "      <th>2</th>\n",
       "      <td>0.472222</td>\n",
       "    </tr>\n",
       "  </tbody>\n",
       "</table>\n",
       "</div>"
      ],
      "text/plain": [
       "       score\n",
       "3  74.910377\n",
       "4   9.077114\n",
       "0   2.365385\n",
       "2   0.472222"
      ]
     },
     "execution_count": 51,
     "metadata": {},
     "output_type": "execute_result"
    }
   ],
   "source": [
    "dgh.nlargest(5,'score')"
   ]
  },
  {
   "cell_type": "code",
   "execution_count": null,
   "id": "202a7257",
   "metadata": {},
   "outputs": [],
   "source": [
    "# Overleaf account"
   ]
  },
  {
   "cell_type": "code",
   "execution_count": null,
   "id": "3553f7c1",
   "metadata": {},
   "outputs": [],
   "source": []
  }
 ],
 "metadata": {
  "kernelspec": {
   "display_name": "Python 3",
   "language": "python",
   "name": "python3"
  },
  "language_info": {
   "codemirror_mode": {
    "name": "ipython",
    "version": 3
   },
   "file_extension": ".py",
   "mimetype": "text/x-python",
   "name": "python",
   "nbconvert_exporter": "python",
   "pygments_lexer": "ipython3",
   "version": "3.8.8"
  }
 },
 "nbformat": 4,
 "nbformat_minor": 5
}
